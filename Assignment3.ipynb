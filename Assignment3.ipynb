{
 "cells": [
  {
   "cell_type": "code",
   "execution_count": 1,
   "metadata": {},
   "outputs": [
    {
     "name": "stdout",
     "output_type": "stream",
     "text": [
      "Enter First Number: 5\n",
      "Enter Second Number: 10\n",
      "Enter Arithmetic Operator: +\n",
      "Answer:  15\n"
     ]
    }
   ],
   "source": [
    "firstNumber = int(input(\"Enter First Number: \"))\n",
    "secondNumber = int(input(\"Enter Second Number: \"))\n",
    "Operator = input(\"Enter Arithmetic Operator: \")\n",
    "\n",
    "if Operator == \"+\":\n",
    "    print(\"Answer: \",firstNumber+secondNumber)\n",
    "\n",
    "elif Operator == \"-\":\n",
    "    print(\"Answer: \",firstNumber-secondNumber)\n",
    "\n",
    "elif Operator == \"*\":\n",
    "    print(\"Answer: \",firstNumber*secondNumber)\n",
    "\n",
    "elif Operator == \"/\":\n",
    "    print(\"Answer: \",firstNumber/secondNumber)\n",
    "\n",
    "elif Operator == \"**\":\n",
    "    print(\"Answer: \",firstNumber**secondNumber)\n",
    "\n",
    "else:\n",
    "    print(\"You have entered incorrect arithmetic opereation\")"
   ]
  },
  {
   "cell_type": "code",
   "execution_count": 2,
   "metadata": {},
   "outputs": [
    {
     "name": "stdout",
     "output_type": "stream",
     "text": [
      "Numeric value in list:  1\n",
      "Numeric value in list:  5\n",
      "Numeric value in list:  9\n",
      "Numeric value in list:  11\n",
      "Numeric value in list:  15\n"
     ]
    }
   ],
   "source": [
    "def Number(a):\n",
    "    for i in range(len(a)):\n",
    "        if a[i].isdigit() != True:\n",
    "            return False\n",
    "    return True\n",
    "\n",
    "list1 = [1, 5, 9, \"Asad\", 11, \"Ali\", 15]\n",
    "for num in list1:\n",
    "    if Number(str(num)):\n",
    "        print(\"Numeric value in list: \", num)"
   ]
  },
  {
   "cell_type": "code",
   "execution_count": 3,
   "metadata": {},
   "outputs": [
    {
     "name": "stdout",
     "output_type": "stream",
     "text": [
      "Previous Dictionary:  {1, 3, 5, 9}\n",
      "Updated Dictionary:  {1, 3, 5, 9, 11}\n"
     ]
    }
   ],
   "source": [
    "name = {1, 3, 5, 9}\n",
    "print(\"Previous Dictionary: \",name)\n",
    "name.update({11})\n",
    "print(\"Updated Dictionary: \",name)"
   ]
  },
  {
   "cell_type": "code",
   "execution_count": 5,
   "metadata": {},
   "outputs": [
    {
     "name": "stdout",
     "output_type": "stream",
     "text": [
      "Sum is:  150\n"
     ]
    }
   ],
   "source": [
    "my_dict = {10,20,30,40,50}\n",
    "num = 0\n",
    "for data in my_dict:\n",
    "    num = num + data\n",
    "print(\"Sum is: \",num)"
   ]
  },
  {
   "cell_type": "code",
   "execution_count": 7,
   "metadata": {},
   "outputs": [
    {
     "name": "stdout",
     "output_type": "stream",
     "text": [
      "Dublicate values are:  [5, 20, 15]\n"
     ]
    }
   ],
   "source": [
    "my_list=[1, 5, 10, 5, 20, 15, 20, 26, 15]\n",
    "size_of_list=len(my_list)\n",
    "repeted_list=[]\n",
    "for i in range(size_of_list):\n",
    "    x=i+1\n",
    "    for j in range(x,size_of_list):\n",
    "        if my_list[i]==my_list[j] and my_list[i] not in repeted_list:\n",
    "            repeted_list.append(my_list[i])\n",
    "\n",
    "print(\"Dublicate values are: \",repeted_list)"
   ]
  },
  {
   "cell_type": "code",
   "execution_count": 8,
   "metadata": {},
   "outputs": [
    {
     "name": "stdout",
     "output_type": "stream",
     "text": [
      "Enter Key Value: 40\n",
      "Key is present\n"
     ]
    }
   ],
   "source": [
    "my_dictionary = {10, 20, 30, 40, 50}\n",
    "data = int(input(\"Enter Key Value: \"))\n",
    "\n",
    "if data in my_dictionary:\n",
    "      print('Key is present')\n",
    "else:\n",
    "      print('Key is not present')"
   ]
  },
  {
   "cell_type": "code",
   "execution_count": null,
   "metadata": {},
   "outputs": [],
   "source": []
  }
 ],
 "metadata": {
  "kernelspec": {
   "display_name": "Python 3",
   "language": "python",
   "name": "python3"
  },
  "language_info": {
   "codemirror_mode": {
    "name": "ipython",
    "version": 3
   },
   "file_extension": ".py",
   "mimetype": "text/x-python",
   "name": "python",
   "nbconvert_exporter": "python",
   "pygments_lexer": "ipython3",
   "version": "3.7.5"
  }
 },
 "nbformat": 4,
 "nbformat_minor": 2
}
