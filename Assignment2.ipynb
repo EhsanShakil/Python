{
 "cells": [
  {
   "cell_type": "code",
   "execution_count": 1,
   "metadata": {},
   "outputs": [
    {
     "name": "stdout",
     "output_type": "stream",
     "text": [
      "Enter Your English Marks: 75\n",
      "Enter Your Urdu Marks: 80\n",
      "Enter Your Math Marks: 70\n",
      "Enter Your Physics Marks: 85\n",
      "Enter Your Chemistry Marks: 90\n",
      "Your Total Marks are:  400\n",
      "Your Persentage is:  80.0\n",
      "A1 Grade\n"
     ]
    }
   ],
   "source": [
    "English = int(input(\"Enter Your English Marks: \"));\n",
    "Urdu = int(input(\"Enter Your Urdu Marks: \"));\n",
    "Math = int(input(\"Enter Your Math Marks: \"));\n",
    "Physics = int(input(\"Enter Your Physics Marks: \"));\n",
    "Chemistry = int(input(\"Enter Your Chemistry Marks: \"));\n",
    "Obtained_Marks = English + Urdu + Math + Physics + Chemistry;\n",
    "Total_Marks = 500;\n",
    "Percentage = (Obtained_Marks/Total_Marks)*100;\n",
    "\n",
    "print(\"Your Total Marks are: \", Obtained_Marks);\n",
    "\n",
    "print(\"Your Persentage is: \", Percentage);\n",
    "\n",
    "if Percentage >= 50 and Percentage < 60:\n",
    "  print(\"C Grade\");\n",
    "\n",
    "elif Percentage >= 60 and Percentage < 70:\n",
    "  print(\"B Grade\");\n",
    "\n",
    "elif Percentage >= 70 and Percentage < 80:\n",
    "  print(\"A Grade\");\n",
    "\n",
    "elif Percentage >= 80 or Percentage == 100:\n",
    "  print(\"A1 Grade\");\n",
    "\n",
    "else:\n",
    "  print(\"Fail\")"
   ]
  },
  {
   "cell_type": "code",
   "execution_count": 2,
   "metadata": {},
   "outputs": [
    {
     "name": "stdout",
     "output_type": "stream",
     "text": [
      "Enter Any Number: 9\n",
      "Number is Odd\n"
     ]
    }
   ],
   "source": [
    "Number = int(input(\"Enter Any Number: \"));\n",
    "if Number%2 == 0:\n",
    "    print(\"Number is Even\");\n",
    "else:\n",
    "    print(\"Number is Odd\");"
   ]
  },
  {
   "cell_type": "code",
   "execution_count": 3,
   "metadata": {},
   "outputs": [
    {
     "name": "stdout",
     "output_type": "stream",
     "text": [
      "The length of the list are:  4\n"
     ]
    }
   ],
   "source": [
    "List = [\"Apple\", \"Banana\", \"Mango\", \"Orange\"]\n",
    "print(\"The length of the list are: \", len(List));"
   ]
  },
  {
   "cell_type": "code",
   "execution_count": 5,
   "metadata": {},
   "outputs": [
    {
     "name": "stdout",
     "output_type": "stream",
     "text": [
      "Sum of list is:  150\n"
     ]
    }
   ],
   "source": [
    "List = [10, 20, 30, 40, 50];\n",
    "Addition = sum(List)\n",
    "print(\"Sum of list is: \", Addition);"
   ]
  },
  {
   "cell_type": "code",
   "execution_count": 7,
   "metadata": {},
   "outputs": [
    {
     "name": "stdout",
     "output_type": "stream",
     "text": [
      "Maximum number in the list is:  50\n"
     ]
    }
   ],
   "source": [
    "List = [10, 20, 30, 40, 50];\n",
    "print(\"Maximum number in the list is: \", max(List));"
   ]
  },
  {
   "cell_type": "code",
   "execution_count": 8,
   "metadata": {},
   "outputs": [
    {
     "name": "stdout",
     "output_type": "stream",
     "text": [
      "Numbers which are less than 5 are:  1\n",
      "Numbers which are less than 5 are:  1\n",
      "Numbers which are less than 5 are:  2\n",
      "Numbers which are less than 5 are:  3\n"
     ]
    }
   ],
   "source": [
    "List = [1, 1, 2, 3, 5, 8, 13, 21, 34, 55, 89];\n",
    "for num in List: \n",
    "    if num < 5: \n",
    "       print(\"Numbers which are less than 5 are: \", num);"
   ]
  },
  {
   "cell_type": "code",
   "execution_count": null,
   "metadata": {},
   "outputs": [],
   "source": []
  }
 ],
 "metadata": {
  "kernelspec": {
   "display_name": "Python 3",
   "language": "python",
   "name": "python3"
  },
  "language_info": {
   "codemirror_mode": {
    "name": "ipython",
    "version": 3
   },
   "file_extension": ".py",
   "mimetype": "text/x-python",
   "name": "python",
   "nbconvert_exporter": "python",
   "pygments_lexer": "ipython3",
   "version": "3.7.5"
  }
 },
 "nbformat": 4,
 "nbformat_minor": 2
}
