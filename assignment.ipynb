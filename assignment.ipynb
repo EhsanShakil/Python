{
 "cells": [
  {
   "cell_type": "code",
   "execution_count": 2,
   "metadata": {},
   "outputs": [
    {
     "name": "stdout",
     "output_type": "stream",
     "text": [
      "Twinkle, twinkle, little star,\n",
      "      How I wonder what you are!\n",
      "            Up above the world so high,\n",
      "            Like a diamond in the sky.\n",
      "Twinkle, twinkle, little star,\n",
      "      How I wonder what you are!\n"
     ]
    }
   ],
   "source": [
    "#Question No 1\n",
    "\n",
    "print('Twinkle, twinkle, little star,')\n",
    "print('      How I wonder what you are!')\n",
    "print('            Up above the world so high,')\n",
    "print('            Like a diamond in the sky.')\n",
    "print('Twinkle, twinkle, little star,')\n",
    "print('      How I wonder what you are!')"
   ]
  },
  {
   "cell_type": "code",
   "execution_count": 3,
   "metadata": {},
   "outputs": [
    {
     "name": "stdout",
     "output_type": "stream",
     "text": [
      "Python version.\n",
      "3.7.5 (default, Oct 25 2019, 15:51:11) \n",
      "[GCC 7.3.0]\n",
      "Version information.\n",
      "sys.version_info(major=3, minor=7, micro=5, releaselevel='final', serial=0)\n"
     ]
    }
   ],
   "source": [
    "#Question No 2\n",
    "\n",
    "import sys \n",
    "\n",
    "print (\"Python version.\")\n",
    "print (sys.version)\n",
    "print (\"Version information.\")\n",
    "print (sys.version_info)"
   ]
  },
  {
   "cell_type": "code",
   "execution_count": 5,
   "metadata": {},
   "outputs": [
    {
     "name": "stdout",
     "output_type": "stream",
     "text": [
      "Current Date & Time is :\n",
      "04-11-19  23:17:35\n"
     ]
    }
   ],
   "source": [
    "#Question No 3\n",
    "\n",
    "import datetime \n",
    "\n",
    "now = datetime.datetime.now()\n",
    "print (\"Current Date & Time is :\")\n",
    "print (now.strftime(\"%d-%m-%y  %H:%M:%S\"))"
   ]
  },
  {
   "cell_type": "code",
   "execution_count": 9,
   "metadata": {},
   "outputs": [
    {
     "name": "stdout",
     "output_type": "stream",
     "text": [
      "Enter radius value: 10\n",
      "Area of a circle is:  314.0\n"
     ]
    }
   ],
   "source": [
    "#Question No 4\n",
    "\n",
    "Radius_Value = int(input(\"Enter radius value: \"))\n",
    "Py = 3.14\n",
    "Radius =  Py * Radius_Value**2\n",
    "print(\"Area of a circle is: \", Radius)"
   ]
  },
  {
   "cell_type": "code",
   "execution_count": 10,
   "metadata": {},
   "outputs": [
    {
     "name": "stdout",
     "output_type": "stream",
     "text": [
      "Enter your first name: Ahsan\n",
      "Enter your last name: Shakeel\n",
      "Your full name is:  Shakeel Ahsan\n"
     ]
    }
   ],
   "source": [
    "#Question No 5\n",
    "\n",
    "First_Name = input(\"Enter your first name: \")\n",
    "Last_Name = input(\"Enter your last name: \")\n",
    "Full_Name = Last_Name + \" \" + First_Name\n",
    "print(\"Your full name is: \", Full_Name)"
   ]
  },
  {
   "cell_type": "code",
   "execution_count": 11,
   "metadata": {},
   "outputs": [
    {
     "name": "stdout",
     "output_type": "stream",
     "text": [
      "Enter First Number: 10\n",
      "Enter Second Number: 23\n",
      "The sum of your two values are:  33\n"
     ]
    }
   ],
   "source": [
    "#Question No 6\n",
    "\n",
    "number_1 = int(input(\"Enter First Number: \"))\n",
    "number_2 = int(input(\"Enter Second Number: \"))\n",
    "add = number_1 + number_2\n",
    "print(\"The sum of your two values are: \", add)"
   ]
  },
  {
   "cell_type": "code",
   "execution_count": null,
   "metadata": {},
   "outputs": [],
   "source": []
  }
 ],
 "metadata": {
  "kernelspec": {
   "display_name": "Python 3",
   "language": "python",
   "name": "python3"
  },
  "language_info": {
   "codemirror_mode": {
    "name": "ipython",
    "version": 3
   },
   "file_extension": ".py",
   "mimetype": "text/x-python",
   "name": "python",
   "nbconvert_exporter": "python",
   "pygments_lexer": "ipython3",
   "version": "3.7.5"
  }
 },
 "nbformat": 4,
 "nbformat_minor": 2
}
